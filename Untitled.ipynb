{
 "cells": [
  {
   "cell_type": "code",
   "execution_count": 14,
   "metadata": {
    "collapsed": true
   },
   "outputs": [],
   "source": [
    "import torch\n",
    "from torch.autograd import Variable\n",
    "import numpy as np\n",
    "import time\n",
    "import itertools"
   ]
  },
  {
   "cell_type": "code",
   "execution_count": 15,
   "metadata": {},
   "outputs": [],
   "source": [
    "B, C, Y, X = 128, 3, 512, 512\n",
    "Ic, Iy, Ix = 2, 224, 224\n",
    "depo = torch.arange(0, B*C*Y*X).view(B, C, Y, X).cuda()\n",
    "indx = torch.ones(B, Ic, Iy, Ix).long().cuda()\n"
   ]
  },
  {
   "cell_type": "code",
   "execution_count": 16,
   "metadata": {},
   "outputs": [
    {
     "name": "stdout",
     "output_type": "stream",
     "text": [
      "torch.Size([128, 6, 224, 224])\n",
      "0.010629653930664062\n"
     ]
    }
   ],
   "source": [
    "begin = time.time()\n",
    "# grid = torch.stack([torch.arange(0, B).view(-1, 1).expand(B, C),\n",
    "#                        torch.arange(0, C).view(1, -1).expand(B, C)], -1).view(-1, 2).long().cuda()\n",
    "\n",
    "print(torch.stack([depo[b, c][indx[b], indx[b]]\n",
    "                   for b, c in itertools.product(range(B), range(C))], 0).view(B, C*Ic, Iy, Ix).size())\n",
    "print(time.time() - begin)\n"
   ]
  },
  {
   "cell_type": "code",
   "execution_count": 17,
   "metadata": {},
   "outputs": [],
   "source": [
    "del depo\n",
    "del indx"
   ]
  },
  {
   "cell_type": "code",
   "execution_count": 18,
   "metadata": {},
   "outputs": [
    {
     "data": {
      "text/plain": [
       "torch.Size([2, 6, 6])"
      ]
     },
     "execution_count": 18,
     "metadata": {},
     "output_type": "execute_result"
    }
   ],
   "source": [
    "a = torch.ones(10, 3, 28, 28)\n",
    "ix = torch.ones(10, 2, 6, 6).long()\n",
    "a[0, 0][ix[0], ix[0]].size()"
   ]
  },
  {
   "cell_type": "code",
   "execution_count": null,
   "metadata": {
    "collapsed": true
   },
   "outputs": [],
   "source": []
  }
 ],
 "metadata": {
  "kernelspec": {
   "display_name": "Python 3",
   "language": "python",
   "name": "python3"
  },
  "language_info": {
   "codemirror_mode": {
    "name": "ipython",
    "version": 3
   },
   "file_extension": ".py",
   "mimetype": "text/x-python",
   "name": "python",
   "nbconvert_exporter": "python",
   "pygments_lexer": "ipython3",
   "version": "3.6.2"
  }
 },
 "nbformat": 4,
 "nbformat_minor": 2
}
